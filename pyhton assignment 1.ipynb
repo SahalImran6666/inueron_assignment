{
 "cells": [
  {
   "cell_type": "markdown",
   "id": "5d29f861",
   "metadata": {},
   "source": [
    "# Q)1. In the below elements which of them are values or an expression? eg:- values can be\n",
    "integer or string and expressions will be mathematical operators.\n",
    "*\n",
    "hello\n",
    "-87.8\n",
    "-\n",
    "/\n",
    "+\n",
    "6"
   ]
  },
  {
   "cell_type": "code",
   "execution_count": null,
   "id": "4ce8a527",
   "metadata": {},
   "outputs": [],
   "source": [
    "# values=-87.8,6,'hello'\n",
    "# expression=*,+,/,-"
   ]
  },
  {
   "cell_type": "markdown",
   "id": "b9132996",
   "metadata": {},
   "source": [
    "# Q2)What is the difference between string and variable?"
   ]
  },
  {
   "cell_type": "code",
   "execution_count": null,
   "id": "cfa7db38",
   "metadata": {},
   "outputs": [],
   "source": [
    "# a variable is a identifier that can store different types of data types wether it be list ,string, number,etc.\n",
    "\n",
    "# a string is a type of data type that is stored inside of a variable"
   ]
  },
  {
   "cell_type": "markdown",
   "id": "5e3be062",
   "metadata": {},
   "source": [
    "# Q3)Describe three different data types."
   ]
  },
  {
   "cell_type": "code",
   "execution_count": null,
   "id": "8c0a0c4b",
   "metadata": {},
   "outputs": [],
   "source": [
    "# there are several data types in python including\n",
    "#   1.numbers\n",
    "#   2.list\n",
    "#   3.dictionary\n",
    "#   4.tuple\n",
    "#   5.set\n",
    "#   6.string\n",
    "# string=it store the value as an aggregate of all characters and spaces stated inside of qoutation marks\n",
    "# numbers=as the name suggest the on store numeric data types\n",
    "# list=list store different types of data types as it elements sperates by comma','."
   ]
  },
  {
   "cell_type": "markdown",
   "id": "ea916dda",
   "metadata": {},
   "source": [
    "# Q4)What is an expression made up of? What do all expressions do?"
   ]
  },
  {
   "cell_type": "code",
   "execution_count": null,
   "id": "89d64a85",
   "metadata": {},
   "outputs": [],
   "source": [
    "# An expression is a combination of operators , variable and finctions etc.\n",
    "# expression will perform mathematical operations and return some other value"
   ]
  },
  {
   "cell_type": "markdown",
   "id": "8e52ba46",
   "metadata": {},
   "source": [
    "# Q5)This assignment statements, like spam = 10. What is the difference between an expression and a statement?"
   ]
  },
  {
   "cell_type": "code",
   "execution_count": 11,
   "id": "8b54fad3",
   "metadata": {},
   "outputs": [],
   "source": [
    "# statements are lines of code that could consist of several diferent type of  expressions\n",
    "# where as expressions are some line of code that perform mathematical operation on the code/statement"
   ]
  },
  {
   "cell_type": "markdown",
   "id": "fa5f330f",
   "metadata": {},
   "source": [
    "# Q6)After running the following code, what does the variable bacon contain?bacon = 22 bacon + 1"
   ]
  },
  {
   "cell_type": "code",
   "execution_count": null,
   "id": "a37139c1",
   "metadata": {},
   "outputs": [],
   "source": [
    "23\n",
    "#bacon value will increment by1"
   ]
  },
  {
   "cell_type": "markdown",
   "id": "840f225a",
   "metadata": {},
   "source": [
    "# Q7)What should the values of the following two terms be?\n",
    "'spam' + 'spamspam'\n",
    "'spam' * 3"
   ]
  },
  {
   "cell_type": "code",
   "execution_count": 19,
   "id": "cca89547",
   "metadata": {},
   "outputs": [
    {
     "data": {
      "text/plain": [
       "'spamspamspam'"
      ]
     },
     "execution_count": 19,
     "metadata": {},
     "output_type": "execute_result"
    }
   ],
   "source": [
    "\"spamspamspam\"\n"
   ]
  },
  {
   "cell_type": "code",
   "execution_count": 18,
   "id": "42667aff",
   "metadata": {},
   "outputs": [
    {
     "data": {
      "text/plain": [
       "'spamspamspam'"
      ]
     },
     "execution_count": 18,
     "metadata": {},
     "output_type": "execute_result"
    }
   ],
   "source": [
    "\"spam\"*3"
   ]
  },
  {
   "cell_type": "code",
   "execution_count": null,
   "id": "4992b74e",
   "metadata": {},
   "outputs": [],
   "source": [
    "# it will be same"
   ]
  },
  {
   "cell_type": "code",
   "execution_count": null,
   "id": "21406b77",
   "metadata": {},
   "outputs": [],
   "source": []
  },
  {
   "cell_type": "markdown",
   "id": "2507f6b7",
   "metadata": {},
   "source": [
    "# Q8)Why is eggs a valid variable name while 100 is invalid?"
   ]
  },
  {
   "cell_type": "code",
   "execution_count": null,
   "id": "fcd02a07",
   "metadata": {},
   "outputs": [],
   "source": [
    "# According to variable naming rule:\n",
    "#     a variable name cannot start with a special syblom except '_'\n",
    "#     and cannot be a number"
   ]
  },
  {
   "cell_type": "markdown",
   "id": "34034601",
   "metadata": {},
   "source": [
    "# Q9)What three functions can be used to get the integer, floating-point number, or string version of a value?"
   ]
  },
  {
   "cell_type": "code",
   "execution_count": null,
   "id": "f41059ff",
   "metadata": {},
   "outputs": [],
   "source": [
    "for string -- str()\n",
    "for integer--int()\n",
    "for float--float()"
   ]
  },
  {
   "cell_type": "markdown",
   "id": "063fa4a6",
   "metadata": {},
   "source": [
    "# Q10)Why does this expression cause an error? How can you fix it?\n",
    "'I have eaten'  + 99 + 'burritos';"
   ]
  },
  {
   "cell_type": "code",
   "execution_count": null,
   "id": "af75ded6",
   "metadata": {},
   "outputs": [],
   "source": [
    "# clearly, here 99 is not enclosed with qoutaion marks as a result it would  be considered as an integer \n",
    "# intergers and not be concatenated with string in order to fix that we have to convert 99 int a string by using qooutation marks  "
   ]
  },
  {
   "cell_type": "code",
   "execution_count": 14,
   "id": "caae7254",
   "metadata": {},
   "outputs": [
    {
     "data": {
      "text/plain": [
       "'i have eaten 99 burritos'"
      ]
     },
     "execution_count": 14,
     "metadata": {},
     "output_type": "execute_result"
    }
   ],
   "source": [
    "'i have eaten '+'99'+ ' burritos'"
   ]
  },
  {
   "cell_type": "code",
   "execution_count": null,
   "id": "ea94fb0c",
   "metadata": {},
   "outputs": [],
   "source": []
  }
 ],
 "metadata": {
  "kernelspec": {
   "display_name": "Python 3 (ipykernel)",
   "language": "python",
   "name": "python3"
  },
  "language_info": {
   "codemirror_mode": {
    "name": "ipython",
    "version": 3
   },
   "file_extension": ".py",
   "mimetype": "text/x-python",
   "name": "python",
   "nbconvert_exporter": "python",
   "pygments_lexer": "ipython3",
   "version": "3.9.12"
  }
 },
 "nbformat": 4,
 "nbformat_minor": 5
}
