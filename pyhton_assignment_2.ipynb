{
 "cells": [
  {
   "cell_type": "markdown",
   "id": "1f74464c",
   "metadata": {},
   "source": [
    "# 1.What are the two values of the Boolean data type? How do you write them?"
   ]
  },
  {
   "cell_type": "code",
   "execution_count": 1,
   "id": "f5ce2236",
   "metadata": {},
   "outputs": [],
   "source": [
    "# two values of Bollean data type are\n",
    "# True(1)\n",
    "# False(0)"
   ]
  },
  {
   "cell_type": "markdown",
   "id": "56499c25",
   "metadata": {},
   "source": [
    "# 2. What are the three different types of Boolean operators?"
   ]
  },
  {
   "cell_type": "code",
   "execution_count": 2,
   "id": "3926c088",
   "metadata": {},
   "outputs": [],
   "source": [
    "# AND\n",
    "# OR\n",
    "# NOT"
   ]
  },
  {
   "cell_type": "markdown",
   "id": "5415aeea",
   "metadata": {},
   "source": [
    "# 3. Make a list of each Boolean operator&#39;s truth tables (i.e. every possible combination of Boolean values for the operator and what it evaluate )."
   ]
  },
  {
   "cell_type": "code",
   "execution_count": 3,
   "id": "261cb80b",
   "metadata": {},
   "outputs": [],
   "source": [
    "# AND\n",
    "# A  B  C(A.B)\n",
    "# 1  1  1\n",
    "# 1  0  0\n",
    "# 0  1  0\n",
    "# 0  0  0\n",
    "\n",
    "#OR\n",
    "## A  B  C(A+B)\n",
    "# 1  1  1\n",
    "# 1  0  1\n",
    "# 0  1  1\n",
    "# 0  0  0\n",
    "\n",
    "#NOT\n",
    "# A  C(invert the value of A)\n",
    "# 1  0\n",
    "# 0  1"
   ]
  },
  {
   "cell_type": "markdown",
   "id": "be983e6d",
   "metadata": {},
   "source": [
    "# 4. What are the values of the following expressions?\n",
    "(5 &gt; 4) and (3 == 5)\n",
    "not (5 &gt; 4)\n",
    "(5 &gt; 4) or (3 == 5)\n",
    "not ((5 &gt; 4) or (3 == 5))\n",
    "(True and True) and (True == False)\n",
    "(not False) or (not True)\n"
   ]
  },
  {
   "cell_type": "code",
   "execution_count": 5,
   "id": "ec12c7f9",
   "metadata": {},
   "outputs": [],
   "source": [
    "# (5>4) and (3==5)\n",
    "#(ans)False\n",
    "\n",
    "#not(5>4)\n",
    "#(ans)false\n",
    "\n",
    "#(5>4) or (3==5)\n",
    "#(ans)True\n",
    "\n",
    "#not((5 > 4) or (3 == 5))\n",
    "#false\n",
    "\n",
    "#(True and True) and (True==False)\n",
    "#(ans)False \n",
    "\n",
    "#not False or not True\n",
    "#(ans)True"
   ]
  },
  {
   "cell_type": "markdown",
   "id": "26b28beb",
   "metadata": {},
   "source": [
    "# 5. What are the six comparison operators?"
   ]
  },
  {
   "cell_type": "code",
   "execution_count": 6,
   "id": "0e3d08d8",
   "metadata": {},
   "outputs": [],
   "source": [
    "# Equal to (==)\n",
    "# not Equal to (!=)\n",
    "# less than (<)\n",
    "# Greater than (> )\n",
    "# less than or equal to (<=)\n",
    "# Greater than or equal to (>=)"
   ]
  },
  {
   "cell_type": "markdown",
   "id": "8b84de1e",
   "metadata": {},
   "source": [
    "# 6. How do you tell the difference between the equal to and assignment operators?Describe a condition and when you would use one."
   ]
  },
  {
   "cell_type": "code",
   "execution_count": null,
   "id": "949aa369",
   "metadata": {},
   "outputs": [],
   "source": [
    "# Equal to (==) operator checks the value. for example\n",
    "if variable_value==3:\n",
    "# Assignment operator (=) it assigns the stated value to a variable\n",
    "a=3"
   ]
  },
  {
   "cell_type": "markdown",
   "id": "f0a93a5f",
   "metadata": {},
   "source": [
    "# 7. Identify the three blocks in this code:\n",
    "spam = 0\n",
    "if spam == 10:\n",
    "print(&#39;eggs&#39;)\n",
    "if spam &gt; 5:\n",
    "print(&#39;bacon&#39;)\n",
    "else:\n",
    "print(&#39;ham&#39;)\n",
    "print(&#39;spam&#39;)\n",
    "print(&#39;spam&#39;)\n"
   ]
  },
  {
   "cell_type": "code",
   "execution_count": 9,
   "id": "fba67413",
   "metadata": {},
   "outputs": [],
   "source": [
    "spam = 0\n",
    "if spam == 10:\n",
    "    print('eggs')#first block\n",
    "if spam > 5:\n",
    "    print('bacon')#second block\n",
    "else:\n",
    "    print('ham')   #third block\n",
    "    print('spam')\n",
    "    print('spam')"
   ]
  },
  {
   "cell_type": "markdown",
   "id": "74acda6d",
   "metadata": {},
   "source": [
    "# 8. Write code that prints Hello if 1 is stored in spam, prints Howdy if 2 is stored in spam, and prints.Greetings! if anything else is stored in spam."
   ]
  },
  {
   "cell_type": "code",
   "execution_count": null,
   "id": "7ed16dd4",
   "metadata": {},
   "outputs": [],
   "source": [
    "spam=(int(input()))\n",
    "if spam==1:\n",
    "    print('Hello')\n",
    "elif spam==2:\n",
    "    print('Howdy')\n",
    "else:\n",
    "    print('Greetings ')"
   ]
  },
  {
   "cell_type": "markdown",
   "id": "a9bbfe96",
   "metadata": {},
   "source": [
    "# 9.If your programme is stuck in an endless loop, what keys you’ll press?"
   ]
  },
  {
   "cell_type": "code",
   "execution_count": null,
   "id": "06f406c0",
   "metadata": {},
   "outputs": [],
   "source": [
    "# interept Kernel"
   ]
  },
  {
   "cell_type": "markdown",
   "id": "64b88cdc",
   "metadata": {},
   "source": [
    "# 10. How can you tell the difference between break and continue?"
   ]
  },
  {
   "cell_type": "code",
   "execution_count": null,
   "id": "e4fb121b",
   "metadata": {},
   "outputs": [],
   "source": [
    "#Break statement exist the loop while continue statement skips and goees to the next condition in the loop and "
   ]
  },
  {
   "cell_type": "markdown",
   "id": "24c34e04",
   "metadata": {},
   "source": [
    "# 11. In a for loop, what is the difference between range(10), range(0, 10), and range(0, 10, 1)?"
   ]
  },
  {
   "cell_type": "code",
   "execution_count": 12,
   "id": "bad2645d",
   "metadata": {},
   "outputs": [
    {
     "data": {
      "text/plain": [
       "[0, 1, 2, 3, 4, 5, 6, 7, 8, 9]"
      ]
     },
     "execution_count": 12,
     "metadata": {},
     "output_type": "execute_result"
    }
   ],
   "source": [
    "# range(10)\n",
    "# this prints number from 0 to 9\n",
    "\n",
    "# range(0,10)\n",
    "# this is more specific as it gives the starting number and ending number and end the list before \"n-1\"  \n",
    "\n",
    "#range(0,10,1)\n",
    "# this gives a list of numbers and also tells about the increment value"
   ]
  },
  {
   "cell_type": "markdown",
   "id": "22e734da",
   "metadata": {},
   "source": [
    "# 12. If you had a function named bacon() inside a module named spam, how would you call it after importing spam ?"
   ]
  },
  {
   "cell_type": "code",
   "execution_count": 24,
   "id": "8f3681a5",
   "metadata": {},
   "outputs": [
    {
     "name": "stdout",
     "output_type": "stream",
     "text": [
      "1\n",
      "2\n",
      "3\n",
      "4\n",
      "5\n",
      "6\n",
      "7\n",
      "8\n",
      "9\n",
      "10\n"
     ]
    }
   ],
   "source": [
    "for i in range(1,10+1):\n",
    "     print(i)"
   ]
  },
  {
   "cell_type": "code",
   "execution_count": 23,
   "id": "14748ebc",
   "metadata": {},
   "outputs": [
    {
     "name": "stdout",
     "output_type": "stream",
     "text": [
      "1\n",
      "2\n",
      "3\n",
      "4\n",
      "5\n",
      "6\n",
      "7\n",
      "8\n",
      "9\n",
      "10\n"
     ]
    }
   ],
   "source": [
    "n=0\n",
    "while n < 10:\n",
    "    n=n+1\n",
    "    print(n)"
   ]
  },
  {
   "cell_type": "markdown",
   "id": "8772b228",
   "metadata": {},
   "source": [
    "# 13. If you had a function named bacon() inside a module named spam, how would you call it after importing spam ?"
   ]
  },
  {
   "cell_type": "code",
   "execution_count": null,
   "id": "f79e8c7e",
   "metadata": {},
   "outputs": [],
   "source": [
    "#spam.bacon()"
   ]
  }
 ],
 "metadata": {
  "kernelspec": {
   "display_name": "Python 3 (ipykernel)",
   "language": "python",
   "name": "python3"
  },
  "language_info": {
   "codemirror_mode": {
    "name": "ipython",
    "version": 3
   },
   "file_extension": ".py",
   "mimetype": "text/x-python",
   "name": "python",
   "nbconvert_exporter": "python",
   "pygments_lexer": "ipython3",
   "version": "3.9.7"
  }
 },
 "nbformat": 4,
 "nbformat_minor": 5
}
